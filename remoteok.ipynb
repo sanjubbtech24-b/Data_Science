{
 "cells": [
  {
   "cell_type": "code",
   "execution_count": 1,
   "id": "ed5beb4d",
   "metadata": {},
   "outputs": [
    {
     "name": "stdout",
     "output_type": "stream",
     "text": [
      "/usr/local/bin/python3\n"
     ]
    },
    {
     "ename": "ModuleNotFoundError",
     "evalue": "No module named 'requests'",
     "output_type": "error",
     "traceback": [
      "\u001b[31m---------------------------------------------------------------------------\u001b[39m",
      "\u001b[31mModuleNotFoundError\u001b[39m                       Traceback (most recent call last)",
      "\u001b[36mCell\u001b[39m\u001b[36m \u001b[39m\u001b[32mIn[1]\u001b[39m\u001b[32m, line 3\u001b[39m\n\u001b[32m      1\u001b[39m \u001b[38;5;28;01mimport\u001b[39;00m\u001b[38;5;250m \u001b[39m\u001b[34;01msys\u001b[39;00m\n\u001b[32m      2\u001b[39m \u001b[38;5;28mprint\u001b[39m(sys.executable)\n\u001b[32m----> \u001b[39m\u001b[32m3\u001b[39m \u001b[38;5;28;01mimport\u001b[39;00m\u001b[38;5;250m \u001b[39m\u001b[34;01mrequests\u001b[39;00m\n\u001b[32m      4\u001b[39m \u001b[38;5;28;01mimport\u001b[39;00m\u001b[38;5;250m \u001b[39m\u001b[34;01mcsv\u001b[39;00m\n\u001b[32m      5\u001b[39m \u001b[38;5;28;01mimport\u001b[39;00m\u001b[38;5;250m \u001b[39m\u001b[34;01mpandas\u001b[39;00m\n",
      "\u001b[31mModuleNotFoundError\u001b[39m: No module named 'requests'"
     ]
    }
   ],
   "source": [
    "import sys\n",
    "print(sys.executable)\n",
    "import requests\n",
    "import csv\n",
    "import pandas\n",
    "\n",
    "\n",
    "def job_data():\n",
    "    print(\"---Extracting job data from remoteok---\")\n",
    "    url=\"https://remoteok.com/api\"\n",
    "    all_jobs=[]\n",
    "\n",
    "    try:\n",
    "        response=requests.get(url, headers={'User-Agent': 'Mozilla/5.0','Accept': 'application/json'})\n",
    "        response.raise_for_status()\n",
    "        \n",
    "        jobs_data=response.json()\n",
    "\n",
    "        for job in jobs_data[1:]:\n",
    "            company = job.get('company', 'N/A')\n",
    "            role = job.get('position', job.get('title', 'N/A'))\n",
    "            loc = job.get('location', 'N/A')\n",
    "            tags = \", \".join(job.get('tags', []))\n",
    "    \n",
    "            all_jobs.append({\n",
    "                'company': company,\n",
    "                'role': role,\n",
    "                'location': loc,\n",
    "                'tags': tags\n",
    "            })\n",
    "\n",
    "        print(f\"Extracted {len(all_jobs)} jobs\")\n",
    "        \n",
    "    except requests.exceptions.RequestException as e:\n",
    "        print(f\"Error fetching data from {e}\")\n",
    "        return None\n",
    "    except Exception as e:\n",
    "        print(f\"Error parsing data\")\n",
    "        return None\n",
    "\n",
    "    return all_jobs\n",
    "\n",
    "def savecsv(data,file):\n",
    "    if not data:\n",
    "        print(f\"No data to be saved to{file}.\")\n",
    "        return \n",
    "\n",
    "    keys=data[0].keys()\n",
    "\n",
    "    try:\n",
    "        with open(file, 'w', newline='', encoding='utf-8') as output_file:\n",
    "            dict_writer = csv.DictWriter(output_file, fieldnames=keys)\n",
    "            dict_writer.writeheader()\n",
    "            dict_writer.writerows(data)\n",
    "\n",
    "        print(f\"Data successfully saved to {file}\")\n",
    "    except IOError as e:\n",
    "        print(f\"Error saving data to CSV file: {e}\")\n",
    "\n",
    "\n",
    "if __name__ == \"__main__\":\n",
    "    jobsdata = job_data()\n",
    "\n",
    "    if jobsdata:\n",
    "        savecsv(jobsdata, 'remoteok_jobs.csv')\n",
    "\n",
    "    print(\"\\n--- Process Complete ---\")\n",
    "\n"
   ]
  }
 ],
 "metadata": {
  "kernelspec": {
   "display_name": "Python 3",
   "language": "python",
   "name": "python3"
  },
  "language_info": {
   "codemirror_mode": {
    "name": "ipython",
    "version": 3
   },
   "file_extension": ".py",
   "mimetype": "text/x-python",
   "name": "python",
   "nbconvert_exporter": "python",
   "pygments_lexer": "ipython3",
   "version": "3.13.6"
  }
 },
 "nbformat": 4,
 "nbformat_minor": 5
}
