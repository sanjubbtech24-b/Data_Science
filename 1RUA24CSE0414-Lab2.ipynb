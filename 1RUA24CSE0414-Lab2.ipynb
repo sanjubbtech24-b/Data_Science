{
 "cells": [
  {
   "cell_type": "code",
   "execution_count": 2,
   "id": "404c9982-c6ac-4d4a-8415-e6e4319d950e",
   "metadata": {},
   "outputs": [],
   "source": [
    "import pandas as pd\n",
    "import numpy as np\n",
    "from sklearn.preprocessing import StandardScaler, MinMaxScaler"
   ]
  },
  {
   "cell_type": "code",
   "execution_count": 4,
   "id": "1db5d052-670b-4fb9-bb47-967e01085608",
   "metadata": {},
   "outputs": [
    {
     "data": {
      "text/html": [
       "<div>\n",
       "<style scoped>\n",
       "    .dataframe tbody tr th:only-of-type {\n",
       "        vertical-align: middle;\n",
       "    }\n",
       "\n",
       "    .dataframe tbody tr th {\n",
       "        vertical-align: top;\n",
       "    }\n",
       "\n",
       "    .dataframe thead th {\n",
       "        text-align: right;\n",
       "    }\n",
       "</style>\n",
       "<table border=\"1\" class=\"dataframe\">\n",
       "  <thead>\n",
       "    <tr style=\"text-align: right;\">\n",
       "      <th></th>\n",
       "      <th>name</th>\n",
       "      <th>mpg</th>\n",
       "      <th>cylinders</th>\n",
       "      <th>displacement</th>\n",
       "      <th>horsepower</th>\n",
       "      <th>weight</th>\n",
       "      <th>acceleration</th>\n",
       "      <th>model_year</th>\n",
       "      <th>origin</th>\n",
       "    </tr>\n",
       "  </thead>\n",
       "  <tbody>\n",
       "    <tr>\n",
       "      <th>0</th>\n",
       "      <td>chevrolet chevelle malibu</td>\n",
       "      <td>18.0</td>\n",
       "      <td>8.0</td>\n",
       "      <td>307.0</td>\n",
       "      <td>130.0</td>\n",
       "      <td>3504.0</td>\n",
       "      <td>12.0</td>\n",
       "      <td>70</td>\n",
       "      <td>usa</td>\n",
       "    </tr>\n",
       "    <tr>\n",
       "      <th>1</th>\n",
       "      <td>buick skylark 320</td>\n",
       "      <td>15.0</td>\n",
       "      <td>8.0</td>\n",
       "      <td>350.0</td>\n",
       "      <td>165.0</td>\n",
       "      <td>3693.0</td>\n",
       "      <td>11.5</td>\n",
       "      <td>70</td>\n",
       "      <td>usa</td>\n",
       "    </tr>\n",
       "    <tr>\n",
       "      <th>2</th>\n",
       "      <td>plymouth satellite</td>\n",
       "      <td>18.0</td>\n",
       "      <td>8.0</td>\n",
       "      <td>318.0</td>\n",
       "      <td>150.0</td>\n",
       "      <td>3436.0</td>\n",
       "      <td>11.0</td>\n",
       "      <td>70</td>\n",
       "      <td>usa</td>\n",
       "    </tr>\n",
       "    <tr>\n",
       "      <th>3</th>\n",
       "      <td>amc rebel sst</td>\n",
       "      <td>16.0</td>\n",
       "      <td>8.0</td>\n",
       "      <td>304.0</td>\n",
       "      <td>150.0</td>\n",
       "      <td>3433.0</td>\n",
       "      <td>12.0</td>\n",
       "      <td>70</td>\n",
       "      <td>usa</td>\n",
       "    </tr>\n",
       "    <tr>\n",
       "      <th>4</th>\n",
       "      <td>ford torino</td>\n",
       "      <td>17.0</td>\n",
       "      <td>NaN</td>\n",
       "      <td>302.0</td>\n",
       "      <td>140.0</td>\n",
       "      <td>3449.0</td>\n",
       "      <td>10.5</td>\n",
       "      <td>70</td>\n",
       "      <td>usa</td>\n",
       "    </tr>\n",
       "  </tbody>\n",
       "</table>\n",
       "</div>"
      ],
      "text/plain": [
       "                        name   mpg  cylinders  displacement  horsepower  \\\n",
       "0  chevrolet chevelle malibu  18.0        8.0         307.0       130.0   \n",
       "1          buick skylark 320  15.0        8.0         350.0       165.0   \n",
       "2         plymouth satellite  18.0        8.0         318.0       150.0   \n",
       "3              amc rebel sst  16.0        8.0         304.0       150.0   \n",
       "4                ford torino  17.0        NaN         302.0       140.0   \n",
       "\n",
       "   weight  acceleration  model_year origin  \n",
       "0  3504.0          12.0          70    usa  \n",
       "1  3693.0          11.5          70    usa  \n",
       "2  3436.0          11.0          70    usa  \n",
       "3  3433.0          12.0          70    usa  \n",
       "4  3449.0          10.5          70    usa  "
      ]
     },
     "execution_count": 4,
     "metadata": {},
     "output_type": "execute_result"
    }
   ],
   "source": [
    "df = pd.read_csv(\"Automobile.csv\")\n",
    "df.head()"
   ]
  },
  {
   "cell_type": "code",
   "execution_count": 7,
   "id": "7255dfc5-3451-44f4-99d0-d7e02191ebcb",
   "metadata": {},
   "outputs": [
    {
     "name": "stdout",
     "output_type": "stream",
     "text": [
      "<class 'pandas.core.frame.DataFrame'>\n",
      "RangeIndex: 398 entries, 0 to 397\n",
      "Data columns (total 9 columns):\n",
      " #   Column        Non-Null Count  Dtype  \n",
      "---  ------        --------------  -----  \n",
      " 0   name          398 non-null    object \n",
      " 1   mpg           398 non-null    float64\n",
      " 2   cylinders     395 non-null    float64\n",
      " 3   displacement  395 non-null    float64\n",
      " 4   horsepower    386 non-null    float64\n",
      " 5   weight        396 non-null    float64\n",
      " 6   acceleration  395 non-null    float64\n",
      " 7   model_year    398 non-null    int64  \n",
      " 8   origin        398 non-null    object \n",
      "dtypes: float64(6), int64(1), object(2)\n",
      "memory usage: 28.1+ KB\n"
     ]
    },
    {
     "data": {
      "text/plain": [
       "(398, 9)"
      ]
     },
     "execution_count": 7,
     "metadata": {},
     "output_type": "execute_result"
    }
   ],
   "source": [
    "df.info()\n",
    "df.shape"
   ]
  },
  {
   "cell_type": "code",
   "execution_count": 8,
   "id": "1590f608-7cad-4138-9ba2-78fd54bdb360",
   "metadata": {},
   "outputs": [
    {
     "data": {
      "text/plain": [
       "name             0\n",
       "mpg              0\n",
       "cylinders        3\n",
       "displacement     3\n",
       "horsepower      12\n",
       "weight           2\n",
       "acceleration     3\n",
       "model_year       0\n",
       "origin           0\n",
       "dtype: int64"
      ]
     },
     "execution_count": 8,
     "metadata": {},
     "output_type": "execute_result"
    }
   ],
   "source": [
    "df.isnull().sum()"
   ]
  },
  {
   "cell_type": "code",
   "execution_count": 9,
   "id": "744c31e1-0401-4d98-8e5a-165850a9629e",
   "metadata": {},
   "outputs": [
    {
     "name": "stdout",
     "output_type": "stream",
     "text": [
      "<class 'pandas.core.frame.DataFrame'>\n",
      "Index: 386 entries, 0 to 397\n",
      "Data columns (total 9 columns):\n",
      " #   Column        Non-Null Count  Dtype  \n",
      "---  ------        --------------  -----  \n",
      " 0   name          386 non-null    object \n",
      " 1   mpg           386 non-null    float64\n",
      " 2   cylinders     383 non-null    float64\n",
      " 3   displacement  383 non-null    float64\n",
      " 4   horsepower    386 non-null    float64\n",
      " 5   weight        384 non-null    float64\n",
      " 6   acceleration  384 non-null    float64\n",
      " 7   model_year    386 non-null    int64  \n",
      " 8   origin        386 non-null    object \n",
      "dtypes: float64(6), int64(1), object(2)\n",
      "memory usage: 30.2+ KB\n"
     ]
    }
   ],
   "source": [
    "df.dropna(subset = \"horsepower\", inplace = True)\n",
    "df.info()"
   ]
  },
  {
   "cell_type": "code",
   "execution_count": 10,
   "id": "b44c0244-28d3-48e5-ba67-498ceadf701c",
   "metadata": {},
   "outputs": [
    {
     "name": "stdout",
     "output_type": "stream",
     "text": [
      "<class 'pandas.core.frame.DataFrame'>\n",
      "Index: 386 entries, 0 to 397\n",
      "Data columns (total 9 columns):\n",
      " #   Column        Non-Null Count  Dtype  \n",
      "---  ------        --------------  -----  \n",
      " 0   name          386 non-null    object \n",
      " 1   mpg           386 non-null    float64\n",
      " 2   cylinders     383 non-null    float64\n",
      " 3   displacement  383 non-null    float64\n",
      " 4   horsepower    386 non-null    float64\n",
      " 5   weight        384 non-null    float64\n",
      " 6   acceleration  384 non-null    float64\n",
      " 7   model_year    386 non-null    int64  \n",
      " 8   origin        386 non-null    object \n",
      "dtypes: float64(6), int64(1), object(2)\n",
      "memory usage: 30.2+ KB\n"
     ]
    },
    {
     "name": "stderr",
     "output_type": "stream",
     "text": [
      "/var/folders/dz/mssf7jjj0m7g6t776bksdgpc0000gn/T/ipykernel_10844/809309310.py:1: FutureWarning: A value is trying to be set on a copy of a DataFrame or Series through chained assignment using an inplace method.\n",
      "The behavior will change in pandas 3.0. This inplace method will never work because the intermediate object on which we are setting values always behaves as a copy.\n",
      "\n",
      "For example, when doing 'df[col].method(value, inplace=True)', try using 'df.method({col: value}, inplace=True)' or df[col] = df[col].method(value) instead, to perform the operation inplace on the original object.\n",
      "\n",
      "\n",
      "  df[\"horsepower\"].fillna(df[\"horsepower\"].median(), inplace=True)\n"
     ]
    }
   ],
   "source": [
    "df[\"horsepower\"].fillna(df[\"horsepower\"].median(), inplace=True)\n",
    "df.info()"
   ]
  },
  {
   "cell_type": "code",
   "execution_count": 12,
   "id": "847bbcd2-09a4-46ea-a679-a045c5d1329c",
   "metadata": {},
   "outputs": [
    {
     "name": "stdout",
     "output_type": "stream",
     "text": [
      "<class 'pandas.core.frame.DataFrame'>\n",
      "Index: 386 entries, 0 to 397\n",
      "Data columns (total 9 columns):\n",
      " #   Column        Non-Null Count  Dtype  \n",
      "---  ------        --------------  -----  \n",
      " 0   name          386 non-null    object \n",
      " 1   mpg           386 non-null    float64\n",
      " 2   cylinders     386 non-null    float64\n",
      " 3   displacement  386 non-null    float64\n",
      " 4   horsepower    386 non-null    float64\n",
      " 5   weight        386 non-null    float64\n",
      " 6   acceleration  386 non-null    float64\n",
      " 7   model_year    386 non-null    int64  \n",
      " 8   origin        386 non-null    object \n",
      "dtypes: float64(6), int64(1), object(2)\n",
      "memory usage: 30.2+ KB\n"
     ]
    },
    {
     "name": "stderr",
     "output_type": "stream",
     "text": [
      "/var/folders/dz/mssf7jjj0m7g6t776bksdgpc0000gn/T/ipykernel_10844/1198174647.py:1: FutureWarning: A value is trying to be set on a copy of a DataFrame or Series through chained assignment using an inplace method.\n",
      "The behavior will change in pandas 3.0. This inplace method will never work because the intermediate object on which we are setting values always behaves as a copy.\n",
      "\n",
      "For example, when doing 'df[col].method(value, inplace=True)', try using 'df.method({col: value}, inplace=True)' or df[col] = df[col].method(value) instead, to perform the operation inplace on the original object.\n",
      "\n",
      "\n",
      "  df[\"horsepower\"].fillna(df[\"horsepower\"].median(), inplace=True)\n",
      "/var/folders/dz/mssf7jjj0m7g6t776bksdgpc0000gn/T/ipykernel_10844/1198174647.py:2: FutureWarning: A value is trying to be set on a copy of a DataFrame or Series through chained assignment using an inplace method.\n",
      "The behavior will change in pandas 3.0. This inplace method will never work because the intermediate object on which we are setting values always behaves as a copy.\n",
      "\n",
      "For example, when doing 'df[col].method(value, inplace=True)', try using 'df.method({col: value}, inplace=True)' or df[col] = df[col].method(value) instead, to perform the operation inplace on the original object.\n",
      "\n",
      "\n",
      "  df[\"cylinders\"].fillna(df[\"cylinders\"].mean(), inplace=True)\n",
      "/var/folders/dz/mssf7jjj0m7g6t776bksdgpc0000gn/T/ipykernel_10844/1198174647.py:3: FutureWarning: A value is trying to be set on a copy of a DataFrame or Series through chained assignment using an inplace method.\n",
      "The behavior will change in pandas 3.0. This inplace method will never work because the intermediate object on which we are setting values always behaves as a copy.\n",
      "\n",
      "For example, when doing 'df[col].method(value, inplace=True)', try using 'df.method({col: value}, inplace=True)' or df[col] = df[col].method(value) instead, to perform the operation inplace on the original object.\n",
      "\n",
      "\n",
      "  df[\"weight\"].fillna(df[\"weight\"].mean(), inplace=True)\n",
      "/var/folders/dz/mssf7jjj0m7g6t776bksdgpc0000gn/T/ipykernel_10844/1198174647.py:4: FutureWarning: A value is trying to be set on a copy of a DataFrame or Series through chained assignment using an inplace method.\n",
      "The behavior will change in pandas 3.0. This inplace method will never work because the intermediate object on which we are setting values always behaves as a copy.\n",
      "\n",
      "For example, when doing 'df[col].method(value, inplace=True)', try using 'df.method({col: value}, inplace=True)' or df[col] = df[col].method(value) instead, to perform the operation inplace on the original object.\n",
      "\n",
      "\n",
      "  df[\"displacement\"].fillna(df[\"displacement\"].mean(), inplace=True)\n",
      "/var/folders/dz/mssf7jjj0m7g6t776bksdgpc0000gn/T/ipykernel_10844/1198174647.py:5: FutureWarning: A value is trying to be set on a copy of a DataFrame or Series through chained assignment using an inplace method.\n",
      "The behavior will change in pandas 3.0. This inplace method will never work because the intermediate object on which we are setting values always behaves as a copy.\n",
      "\n",
      "For example, when doing 'df[col].method(value, inplace=True)', try using 'df.method({col: value}, inplace=True)' or df[col] = df[col].method(value) instead, to perform the operation inplace on the original object.\n",
      "\n",
      "\n",
      "  df[\"acceleration\"].fillna(df[\"acceleration\"].mean(), inplace=True)\n"
     ]
    }
   ],
   "source": [
    "df[\"horsepower\"].fillna(df[\"horsepower\"].median(), inplace=True)\n",
    "df[\"cylinders\"].fillna(df[\"cylinders\"].mean(), inplace=True)\n",
    "df[\"weight\"].fillna(df[\"weight\"].mean(), inplace=True)\n",
    "df[\"displacement\"].fillna(df[\"displacement\"].mean(), inplace=True)\n",
    "df[\"acceleration\"].fillna(df[\"acceleration\"].mean(), inplace=True)\n",
    "df.info()"
   ]
  },
  {
   "cell_type": "code",
   "execution_count": 13,
   "id": "20526c46-e538-41ef-bf12-f6602e2092da",
   "metadata": {},
   "outputs": [
    {
     "data": {
      "text/html": [
       "<div>\n",
       "<style scoped>\n",
       "    .dataframe tbody tr th:only-of-type {\n",
       "        vertical-align: middle;\n",
       "    }\n",
       "\n",
       "    .dataframe tbody tr th {\n",
       "        vertical-align: top;\n",
       "    }\n",
       "\n",
       "    .dataframe thead th {\n",
       "        text-align: right;\n",
       "    }\n",
       "</style>\n",
       "<table border=\"1\" class=\"dataframe\">\n",
       "  <thead>\n",
       "    <tr style=\"text-align: right;\">\n",
       "      <th></th>\n",
       "      <th>name</th>\n",
       "      <th>mpg</th>\n",
       "      <th>cylinders</th>\n",
       "      <th>displacement</th>\n",
       "      <th>horsepower</th>\n",
       "      <th>weight</th>\n",
       "      <th>acceleration</th>\n",
       "      <th>model_year</th>\n",
       "      <th>origin</th>\n",
       "    </tr>\n",
       "  </thead>\n",
       "  <tbody>\n",
       "    <tr>\n",
       "      <th>0</th>\n",
       "      <td>chevrolet chevelle malibu</td>\n",
       "      <td>18.0</td>\n",
       "      <td>1.504624</td>\n",
       "      <td>1.091351</td>\n",
       "      <td>0.675237</td>\n",
       "      <td>0.634002</td>\n",
       "      <td>-1.295242</td>\n",
       "      <td>70</td>\n",
       "      <td>usa</td>\n",
       "    </tr>\n",
       "    <tr>\n",
       "      <th>1</th>\n",
       "      <td>buick skylark 320</td>\n",
       "      <td>15.0</td>\n",
       "      <td>1.504624</td>\n",
       "      <td>1.505797</td>\n",
       "      <td>1.595396</td>\n",
       "      <td>0.858567</td>\n",
       "      <td>-1.478355</td>\n",
       "      <td>70</td>\n",
       "      <td>usa</td>\n",
       "    </tr>\n",
       "    <tr>\n",
       "      <th>2</th>\n",
       "      <td>plymouth satellite</td>\n",
       "      <td>18.0</td>\n",
       "      <td>1.504624</td>\n",
       "      <td>1.197372</td>\n",
       "      <td>1.201042</td>\n",
       "      <td>0.553206</td>\n",
       "      <td>-1.661469</td>\n",
       "      <td>70</td>\n",
       "      <td>usa</td>\n",
       "    </tr>\n",
       "    <tr>\n",
       "      <th>3</th>\n",
       "      <td>amc rebel sst</td>\n",
       "      <td>16.0</td>\n",
       "      <td>1.504624</td>\n",
       "      <td>1.062436</td>\n",
       "      <td>1.201042</td>\n",
       "      <td>0.549642</td>\n",
       "      <td>-1.295242</td>\n",
       "      <td>70</td>\n",
       "      <td>usa</td>\n",
       "    </tr>\n",
       "    <tr>\n",
       "      <th>4</th>\n",
       "      <td>ford torino</td>\n",
       "      <td>17.0</td>\n",
       "      <td>0.000000</td>\n",
       "      <td>1.043160</td>\n",
       "      <td>0.938140</td>\n",
       "      <td>0.568652</td>\n",
       "      <td>-1.844582</td>\n",
       "      <td>70</td>\n",
       "      <td>usa</td>\n",
       "    </tr>\n",
       "  </tbody>\n",
       "</table>\n",
       "</div>"
      ],
      "text/plain": [
       "                        name   mpg  cylinders  displacement  horsepower  \\\n",
       "0  chevrolet chevelle malibu  18.0   1.504624      1.091351    0.675237   \n",
       "1          buick skylark 320  15.0   1.504624      1.505797    1.595396   \n",
       "2         plymouth satellite  18.0   1.504624      1.197372    1.201042   \n",
       "3              amc rebel sst  16.0   1.504624      1.062436    1.201042   \n",
       "4                ford torino  17.0   0.000000      1.043160    0.938140   \n",
       "\n",
       "     weight  acceleration  model_year origin  \n",
       "0  0.634002     -1.295242          70    usa  \n",
       "1  0.858567     -1.478355          70    usa  \n",
       "2  0.553206     -1.661469          70    usa  \n",
       "3  0.549642     -1.295242          70    usa  \n",
       "4  0.568652     -1.844582          70    usa  "
      ]
     },
     "execution_count": 13,
     "metadata": {},
     "output_type": "execute_result"
    }
   ],
   "source": [
    "c=[\"horsepower\",\"cylinders\",\"weight\",\"displacement\",\"acceleration\"]\n",
    "sc1=StandardScaler()\n",
    "df[c]=sc1.fit_transform(df[c])\n",
    "df.head()"
   ]
  },
  {
   "cell_type": "code",
   "execution_count": 14,
   "id": "69b15699-ae9d-4b9b-9def-2c0b893f4d4d",
   "metadata": {},
   "outputs": [
    {
     "data": {
      "text/html": [
       "<div>\n",
       "<style scoped>\n",
       "    .dataframe tbody tr th:only-of-type {\n",
       "        vertical-align: middle;\n",
       "    }\n",
       "\n",
       "    .dataframe tbody tr th {\n",
       "        vertical-align: top;\n",
       "    }\n",
       "\n",
       "    .dataframe thead th {\n",
       "        text-align: right;\n",
       "    }\n",
       "</style>\n",
       "<table border=\"1\" class=\"dataframe\">\n",
       "  <thead>\n",
       "    <tr style=\"text-align: right;\">\n",
       "      <th></th>\n",
       "      <th>name</th>\n",
       "      <th>mpg</th>\n",
       "      <th>cylinders</th>\n",
       "      <th>displacement</th>\n",
       "      <th>horsepower</th>\n",
       "      <th>weight</th>\n",
       "      <th>acceleration</th>\n",
       "      <th>model_year</th>\n",
       "      <th>origin</th>\n",
       "    </tr>\n",
       "  </thead>\n",
       "  <tbody>\n",
       "    <tr>\n",
       "      <th>0</th>\n",
       "      <td>chevrolet chevelle malibu</td>\n",
       "      <td>18.0</td>\n",
       "      <td>1.000000</td>\n",
       "      <td>0.617571</td>\n",
       "      <td>0.456522</td>\n",
       "      <td>0.536150</td>\n",
       "      <td>0.238095</td>\n",
       "      <td>70</td>\n",
       "      <td>usa</td>\n",
       "    </tr>\n",
       "    <tr>\n",
       "      <th>1</th>\n",
       "      <td>buick skylark 320</td>\n",
       "      <td>15.0</td>\n",
       "      <td>1.000000</td>\n",
       "      <td>0.728682</td>\n",
       "      <td>0.646739</td>\n",
       "      <td>0.589736</td>\n",
       "      <td>0.208333</td>\n",
       "      <td>70</td>\n",
       "      <td>usa</td>\n",
       "    </tr>\n",
       "    <tr>\n",
       "      <th>2</th>\n",
       "      <td>plymouth satellite</td>\n",
       "      <td>18.0</td>\n",
       "      <td>1.000000</td>\n",
       "      <td>0.645995</td>\n",
       "      <td>0.565217</td>\n",
       "      <td>0.516870</td>\n",
       "      <td>0.178571</td>\n",
       "      <td>70</td>\n",
       "      <td>usa</td>\n",
       "    </tr>\n",
       "    <tr>\n",
       "      <th>3</th>\n",
       "      <td>amc rebel sst</td>\n",
       "      <td>16.0</td>\n",
       "      <td>1.000000</td>\n",
       "      <td>0.609819</td>\n",
       "      <td>0.565217</td>\n",
       "      <td>0.516019</td>\n",
       "      <td>0.238095</td>\n",
       "      <td>70</td>\n",
       "      <td>usa</td>\n",
       "    </tr>\n",
       "    <tr>\n",
       "      <th>4</th>\n",
       "      <td>ford torino</td>\n",
       "      <td>17.0</td>\n",
       "      <td>0.490862</td>\n",
       "      <td>0.604651</td>\n",
       "      <td>0.510870</td>\n",
       "      <td>0.520556</td>\n",
       "      <td>0.148810</td>\n",
       "      <td>70</td>\n",
       "      <td>usa</td>\n",
       "    </tr>\n",
       "  </tbody>\n",
       "</table>\n",
       "</div>"
      ],
      "text/plain": [
       "                        name   mpg  cylinders  displacement  horsepower  \\\n",
       "0  chevrolet chevelle malibu  18.0   1.000000      0.617571    0.456522   \n",
       "1          buick skylark 320  15.0   1.000000      0.728682    0.646739   \n",
       "2         plymouth satellite  18.0   1.000000      0.645995    0.565217   \n",
       "3              amc rebel sst  16.0   1.000000      0.609819    0.565217   \n",
       "4                ford torino  17.0   0.490862      0.604651    0.510870   \n",
       "\n",
       "     weight  acceleration  model_year origin  \n",
       "0  0.536150      0.238095          70    usa  \n",
       "1  0.589736      0.208333          70    usa  \n",
       "2  0.516870      0.178571          70    usa  \n",
       "3  0.516019      0.238095          70    usa  \n",
       "4  0.520556      0.148810          70    usa  "
      ]
     },
     "execution_count": 14,
     "metadata": {},
     "output_type": "execute_result"
    }
   ],
   "source": [
    "d=[\"horsepower\",\"cylinders\",\"weight\",\"displacement\",\"acceleration\"]\n",
    "sc2=MinMaxScaler()\n",
    "df[d]=sc2.fit_transform(df[d])\n",
    "df.head()"
   ]
  },
  {
   "cell_type": "code",
   "execution_count": 16,
   "id": "194ef995-5ae0-45fe-81cd-72e416c34ede",
   "metadata": {},
   "outputs": [
    {
     "data": {
      "text/plain": [
       "0    0.456522\n",
       "1    0.646739\n",
       "2    0.565217\n",
       "3    0.565217\n",
       "4    0.510870\n",
       "Name: horsepower, dtype: float64"
      ]
     },
     "execution_count": 16,
     "metadata": {},
     "output_type": "execute_result"
    }
   ],
   "source": [
    "x=df[[\"mpg\",\"cylinders\",\"weight\",\"displacement\",\"acceleration\"]]\n",
    "y=df[\"horsepower\"]\n",
    "y.head()"
   ]
  },
  {
   "cell_type": "code",
   "execution_count": 17,
   "id": "7714c03c-d2ce-4d00-ab7e-c36a37df9216",
   "metadata": {},
   "outputs": [],
   "source": [
    "final=pd.concat([x,y],axis=1)\n",
    "final.to_csv(\"LAB2Car.csv\",index=False)"
   ]
  },
  {
   "cell_type": "code",
   "execution_count": null,
   "id": "ead95335-bc6d-4131-adcb-a7a994872476",
   "metadata": {},
   "outputs": [],
   "source": []
  }
 ],
 "metadata": {
  "kernelspec": {
   "display_name": "Python [conda env:base] *",
   "language": "python",
   "name": "conda-base-py"
  },
  "language_info": {
   "codemirror_mode": {
    "name": "ipython",
    "version": 3
   },
   "file_extension": ".py",
   "mimetype": "text/x-python",
   "name": "python",
   "nbconvert_exporter": "python",
   "pygments_lexer": "ipython3",
   "version": "3.13.5"
  }
 },
 "nbformat": 4,
 "nbformat_minor": 5
}
