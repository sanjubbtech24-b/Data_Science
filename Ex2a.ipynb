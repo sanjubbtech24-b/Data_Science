{
 "cells": [
  {
   "cell_type": "markdown",
   "id": "6afc3208-1ff4-4042-b78b-a0c295da274a",
   "metadata": {
    "id": "6afc3208-1ff4-4042-b78b-a0c295da274a"
   },
   "source": [
    "### Perform various data preprocessing techniques like handling missing data and feature scaling."
   ]
  },
  {
   "cell_type": "markdown",
   "id": "6eff2117-8474-49a1-b110-b2f24b7b6e13",
   "metadata": {
    "id": "6eff2117-8474-49a1-b110-b2f24b7b6e13"
   },
   "source": [
    "#### step 1: Start by importing the necessary Python libraries for data preprocessing.\n"
   ]
  },
  {
   "cell_type": "code",
   "execution_count": 1,
   "id": "e451344d-0f8e-46aa-9b43-ebb7e2addfbd",
   "metadata": {
    "id": "e451344d-0f8e-46aa-9b43-ebb7e2addfbd"
   },
   "outputs": [],
   "source": [
    "import pandas as pd\n",
    "import numpy as np\n",
    "from sklearn.preprocessing import StandardScaler, MinMaxScaler"
   ]
  },
  {
   "cell_type": "markdown",
   "id": "fac9560b-1b46-4e27-92aa-98098e292d23",
   "metadata": {
    "id": "fac9560b-1b46-4e27-92aa-98098e292d23"
   },
   "source": [
    "#### Step 2: Load the placement dataset into a Pandas Dataframe."
   ]
  },
  {
   "cell_type": "code",
   "execution_count": 6,
   "id": "9c82f185-426d-4d70-b74d-d06a11306492",
   "metadata": {
    "id": "9c82f185-426d-4d70-b74d-d06a11306492",
    "outputId": "0a3b6b38-139e-414b-d690-70d9e278db05"
   },
   "outputs": [
    {
     "data": {
      "text/html": [
       "<div>\n",
       "<style scoped>\n",
       "    .dataframe tbody tr th:only-of-type {\n",
       "        vertical-align: middle;\n",
       "    }\n",
       "\n",
       "    .dataframe tbody tr th {\n",
       "        vertical-align: top;\n",
       "    }\n",
       "\n",
       "    .dataframe thead th {\n",
       "        text-align: right;\n",
       "    }\n",
       "</style>\n",
       "<table border=\"1\" class=\"dataframe\">\n",
       "  <thead>\n",
       "    <tr style=\"text-align: right;\">\n",
       "      <th></th>\n",
       "      <th>sl_no</th>\n",
       "      <th>gender</th>\n",
       "      <th>hsc_p</th>\n",
       "      <th>hsc_s</th>\n",
       "      <th>degree_p</th>\n",
       "      <th>degree_t</th>\n",
       "      <th>etest_p</th>\n",
       "      <th>specialisation</th>\n",
       "      <th>mba_p</th>\n",
       "      <th>salary</th>\n",
       "    </tr>\n",
       "  </thead>\n",
       "  <tbody>\n",
       "    <tr>\n",
       "      <th>0</th>\n",
       "      <td>1</td>\n",
       "      <td>M</td>\n",
       "      <td>91.00</td>\n",
       "      <td>Commerce</td>\n",
       "      <td>58.00</td>\n",
       "      <td>Sci&amp;Tech</td>\n",
       "      <td>55.0</td>\n",
       "      <td>Mkt&amp;HR</td>\n",
       "      <td>58.80</td>\n",
       "      <td>270000.0</td>\n",
       "    </tr>\n",
       "    <tr>\n",
       "      <th>1</th>\n",
       "      <td>2</td>\n",
       "      <td>M</td>\n",
       "      <td>78.33</td>\n",
       "      <td>Science</td>\n",
       "      <td>77.48</td>\n",
       "      <td>Sci&amp;Tech</td>\n",
       "      <td>86.5</td>\n",
       "      <td>Mkt&amp;Fin</td>\n",
       "      <td>66.28</td>\n",
       "      <td>200000.0</td>\n",
       "    </tr>\n",
       "    <tr>\n",
       "      <th>2</th>\n",
       "      <td>3</td>\n",
       "      <td>M</td>\n",
       "      <td>NaN</td>\n",
       "      <td>Arts</td>\n",
       "      <td>64.00</td>\n",
       "      <td>Comm&amp;Mgmt</td>\n",
       "      <td>75.0</td>\n",
       "      <td>Mkt&amp;Fin</td>\n",
       "      <td>57.80</td>\n",
       "      <td>250000.0</td>\n",
       "    </tr>\n",
       "    <tr>\n",
       "      <th>3</th>\n",
       "      <td>4</td>\n",
       "      <td>M</td>\n",
       "      <td>52.00</td>\n",
       "      <td>Science</td>\n",
       "      <td>NaN</td>\n",
       "      <td>Sci&amp;Tech</td>\n",
       "      <td>66.0</td>\n",
       "      <td>Mkt&amp;HR</td>\n",
       "      <td>59.43</td>\n",
       "      <td>NaN</td>\n",
       "    </tr>\n",
       "    <tr>\n",
       "      <th>4</th>\n",
       "      <td>5</td>\n",
       "      <td>M</td>\n",
       "      <td>73.60</td>\n",
       "      <td>Commerce</td>\n",
       "      <td>73.30</td>\n",
       "      <td>Comm&amp;Mgmt</td>\n",
       "      <td>96.8</td>\n",
       "      <td>Mkt&amp;Fin</td>\n",
       "      <td>55.50</td>\n",
       "      <td>425000.0</td>\n",
       "    </tr>\n",
       "  </tbody>\n",
       "</table>\n",
       "</div>"
      ],
      "text/plain": [
       "   sl_no gender  hsc_p     hsc_s  degree_p   degree_t  etest_p specialisation  \\\n",
       "0      1      M  91.00  Commerce     58.00   Sci&Tech     55.0         Mkt&HR   \n",
       "1      2      M  78.33   Science     77.48   Sci&Tech     86.5        Mkt&Fin   \n",
       "2      3      M    NaN      Arts     64.00  Comm&Mgmt     75.0        Mkt&Fin   \n",
       "3      4      M  52.00   Science       NaN   Sci&Tech     66.0         Mkt&HR   \n",
       "4      5      M  73.60  Commerce     73.30  Comm&Mgmt     96.8        Mkt&Fin   \n",
       "\n",
       "   mba_p    salary  \n",
       "0  58.80  270000.0  \n",
       "1  66.28  200000.0  \n",
       "2  57.80  250000.0  \n",
       "3  59.43       NaN  \n",
       "4  55.50  425000.0  "
      ]
     },
     "execution_count": 6,
     "metadata": {},
     "output_type": "execute_result"
    }
   ],
   "source": [
    "df=pd.read_csv(\"data.csv\")\n",
    "df.head()"
   ]
  },
  {
   "cell_type": "markdown",
   "id": "28b184ae-6e01-44d7-829d-11b3e9f0375f",
   "metadata": {
    "id": "28b184ae-6e01-44d7-829d-11b3e9f0375f"
   },
   "source": [
    "#### Step 3:Take a quick look at the data to understand its structure and identify any missing values or anomalies."
   ]
  },
  {
   "cell_type": "code",
   "execution_count": 8,
   "id": "8aceae47-8c25-4b9e-b77d-c902b464458f",
   "metadata": {
    "id": "8aceae47-8c25-4b9e-b77d-c902b464458f",
    "outputId": "504eb27e-aa95-4b97-9b95-741f76f27f7d"
   },
   "outputs": [
    {
     "name": "stdout",
     "output_type": "stream",
     "text": [
      "<class 'pandas.core.frame.DataFrame'>\n",
      "RangeIndex: 215 entries, 0 to 214\n",
      "Data columns (total 10 columns):\n",
      " #   Column          Non-Null Count  Dtype  \n",
      "---  ------          --------------  -----  \n",
      " 0   sl_no           215 non-null    int64  \n",
      " 1   gender          215 non-null    object \n",
      " 2   hsc_p           210 non-null    float64\n",
      " 3   hsc_s           215 non-null    object \n",
      " 4   degree_p        213 non-null    float64\n",
      " 5   degree_t        215 non-null    object \n",
      " 6   etest_p         211 non-null    float64\n",
      " 7   specialisation  215 non-null    object \n",
      " 8   mba_p           214 non-null    float64\n",
      " 9   salary          148 non-null    float64\n",
      "dtypes: float64(5), int64(1), object(4)\n",
      "memory usage: 16.9+ KB\n"
     ]
    },
    {
     "data": {
      "text/plain": [
       "(215, 10)"
      ]
     },
     "execution_count": 8,
     "metadata": {},
     "output_type": "execute_result"
    }
   ],
   "source": [
    "df.info()\n",
    "df.shape"
   ]
  },
  {
   "cell_type": "markdown",
   "id": "5e3199a3-53be-4b3e-8377-1a4f004464c7",
   "metadata": {
    "id": "5e3199a3-53be-4b3e-8377-1a4f004464c7"
   },
   "source": [
    "#### The method isnull() checks each element in the DataFrame (or Series) to see if it is NaN (Not a Number) or None (missing value).\n",
    "It returns a DataFrame (or Series) of the same shape as the input, with Boolean values:\n",
    "#### True: The value is null (NaN or None).\n",
    "#### False: The value is not null."
   ]
  },
  {
   "cell_type": "code",
   "execution_count": 10,
   "id": "e39c2d2f-5d43-47b5-9a55-a6d7de8042b4",
   "metadata": {
    "id": "e39c2d2f-5d43-47b5-9a55-a6d7de8042b4",
    "outputId": "05454768-917f-4c8a-f934-22c665a59cb1"
   },
   "outputs": [
    {
     "data": {
      "text/plain": [
       "sl_no              0\n",
       "gender             0\n",
       "hsc_p              5\n",
       "hsc_s              0\n",
       "degree_p           2\n",
       "degree_t           0\n",
       "etest_p            4\n",
       "specialisation     0\n",
       "mba_p              1\n",
       "salary            67\n",
       "dtype: int64"
      ]
     },
     "execution_count": 10,
     "metadata": {},
     "output_type": "execute_result"
    }
   ],
   "source": [
    "df.isnull().sum()"
   ]
  },
  {
   "cell_type": "markdown",
   "id": "a9eab167-59db-444c-914b-babf9b4787b4",
   "metadata": {
    "id": "a9eab167-59db-444c-914b-babf9b4787b4"
   },
   "source": [
    "#### Step 4: Handle Missing Data\n",
    "#### Option 1: If the dataset is large and only a small percentage of data is missing, you can remove rows with missing values using dropna(subset,inplace)\n"
   ]
  },
  {
   "cell_type": "code",
   "execution_count": 11,
   "id": "4f2b7dd2-f510-4845-81e9-0490a1067a0b",
   "metadata": {
    "id": "4f2b7dd2-f510-4845-81e9-0490a1067a0b",
    "outputId": "6106dfa3-8279-4666-fa60-43453e810a11"
   },
   "outputs": [],
   "source": [
    "df.dropna(subset=[\"salary\"], inplace=True)"
   ]
  },
  {
   "cell_type": "code",
   "execution_count": 14,
   "id": "dc7d6b2b-b228-4313-a5d1-b8c7ad9e29a9",
   "metadata": {},
   "outputs": [
    {
     "name": "stdout",
     "output_type": "stream",
     "text": [
      "<class 'pandas.core.frame.DataFrame'>\n",
      "Index: 148 entries, 0 to 213\n",
      "Data columns (total 10 columns):\n",
      " #   Column          Non-Null Count  Dtype  \n",
      "---  ------          --------------  -----  \n",
      " 0   sl_no           148 non-null    int64  \n",
      " 1   gender          148 non-null    object \n",
      " 2   hsc_p           146 non-null    float64\n",
      " 3   hsc_s           148 non-null    object \n",
      " 4   degree_p        147 non-null    float64\n",
      " 5   degree_t        148 non-null    object \n",
      " 6   etest_p         146 non-null    float64\n",
      " 7   specialisation  148 non-null    object \n",
      " 8   mba_p           148 non-null    float64\n",
      " 9   salary          148 non-null    float64\n",
      "dtypes: float64(5), int64(1), object(4)\n",
      "memory usage: 12.7+ KB\n"
     ]
    }
   ],
   "source": [
    "df.info()"
   ]
  },
  {
   "cell_type": "markdown",
   "id": "a1225761-3c2c-42ad-bac1-967483ea586c",
   "metadata": {
    "id": "a1225761-3c2c-42ad-bac1-967483ea586c"
   },
   "source": [
    "#### Option 2:If removing data isn't ideal, you can impute (df.[\"\"].fillna(df[\"\"].mean(),inplace)) missing values using methods like mean, median, or most frequent."
   ]
  },
  {
   "cell_type": "code",
   "execution_count": 17,
   "id": "8f07f657-0e3d-488f-9d75-495a427483b1",
   "metadata": {
    "id": "8f07f657-0e3d-488f-9d75-495a427483b1",
    "outputId": "e7853abc-0ee2-49a6-ffa8-b9f4a1d647f0"
   },
   "outputs": [
    {
     "name": "stdout",
     "output_type": "stream",
     "text": [
      "<class 'pandas.core.frame.DataFrame'>\n",
      "Index: 148 entries, 0 to 213\n",
      "Data columns (total 10 columns):\n",
      " #   Column          Non-Null Count  Dtype  \n",
      "---  ------          --------------  -----  \n",
      " 0   sl_no           148 non-null    int64  \n",
      " 1   gender          148 non-null    object \n",
      " 2   hsc_p           148 non-null    float64\n",
      " 3   hsc_s           148 non-null    object \n",
      " 4   degree_p        148 non-null    float64\n",
      " 5   degree_t        148 non-null    object \n",
      " 6   etest_p         148 non-null    float64\n",
      " 7   specialisation  148 non-null    object \n",
      " 8   mba_p           148 non-null    float64\n",
      " 9   salary          148 non-null    float64\n",
      "dtypes: float64(5), int64(1), object(4)\n",
      "memory usage: 12.7+ KB\n"
     ]
    },
    {
     "name": "stderr",
     "output_type": "stream",
     "text": [
      "/var/folders/dz/mssf7jjj0m7g6t776bksdgpc0000gn/T/ipykernel_89557/1961081963.py:1: FutureWarning: A value is trying to be set on a copy of a DataFrame or Series through chained assignment using an inplace method.\n",
      "The behavior will change in pandas 3.0. This inplace method will never work because the intermediate object on which we are setting values always behaves as a copy.\n",
      "\n",
      "For example, when doing 'df[col].method(value, inplace=True)', try using 'df.method({col: value}, inplace=True)' or df[col] = df[col].method(value) instead, to perform the operation inplace on the original object.\n",
      "\n",
      "\n",
      "  df[\"hsc_p\"].fillna(df[\"hsc_p\"].mean(), inplace=True)\n",
      "/var/folders/dz/mssf7jjj0m7g6t776bksdgpc0000gn/T/ipykernel_89557/1961081963.py:2: FutureWarning: A value is trying to be set on a copy of a DataFrame or Series through chained assignment using an inplace method.\n",
      "The behavior will change in pandas 3.0. This inplace method will never work because the intermediate object on which we are setting values always behaves as a copy.\n",
      "\n",
      "For example, when doing 'df[col].method(value, inplace=True)', try using 'df.method({col: value}, inplace=True)' or df[col] = df[col].method(value) instead, to perform the operation inplace on the original object.\n",
      "\n",
      "\n",
      "  df[\"degree_p\"].fillna(df[\"degree_p\"].mean(), inplace=True)\n",
      "/var/folders/dz/mssf7jjj0m7g6t776bksdgpc0000gn/T/ipykernel_89557/1961081963.py:3: FutureWarning: A value is trying to be set on a copy of a DataFrame or Series through chained assignment using an inplace method.\n",
      "The behavior will change in pandas 3.0. This inplace method will never work because the intermediate object on which we are setting values always behaves as a copy.\n",
      "\n",
      "For example, when doing 'df[col].method(value, inplace=True)', try using 'df.method({col: value}, inplace=True)' or df[col] = df[col].method(value) instead, to perform the operation inplace on the original object.\n",
      "\n",
      "\n",
      "  df[\"etest_p\"].fillna(df[\"etest_p\"].mean(), inplace=True)\n"
     ]
    }
   ],
   "source": [
    "df[\"hsc_p\"].fillna(df[\"hsc_p\"].mean(), inplace=True)\n",
    "df[\"degree_p\"].fillna(df[\"degree_p\"].mean(), inplace=True)\n",
    "df[\"etest_p\"].fillna(df[\"etest_p\"].mean(), inplace=True)\n",
    "df.info()"
   ]
  },
  {
   "cell_type": "markdown",
   "id": "2edcbe50-a598-4d95-9245-124563d11103",
   "metadata": {
    "id": "2edcbe50-a598-4d95-9245-124563d11103"
   },
   "source": [
    "#### Step 5: Feature Scaling\n",
    "\n",
    "\n",
    "<img src=\"https://i.postimg.cc/G21gMYnF/f.png\" alt=\"Image Description\" width=\"500\">\n",
    "\n",
    "\n",
    "\n",
    "\n",
    "\n",
    "\n",
    "\n",
    "\n",
    "\n",
    " Option 1: This method scales the data to have a mean of 0 and a standard deviation of 1.\n",
    "### StandardScaler()"
   ]
  },
  {
   "cell_type": "code",
   "execution_count": 18,
   "id": "efd8eb42-ccf7-4867-9772-d914b3504b39",
   "metadata": {
    "id": "efd8eb42-ccf7-4867-9772-d914b3504b39",
    "outputId": "cafbc0e6-cf27-45ae-b4dd-f4ed0ba57155"
   },
   "outputs": [
    {
     "data": {
      "text/html": [
       "<div>\n",
       "<style scoped>\n",
       "    .dataframe tbody tr th:only-of-type {\n",
       "        vertical-align: middle;\n",
       "    }\n",
       "\n",
       "    .dataframe tbody tr th {\n",
       "        vertical-align: top;\n",
       "    }\n",
       "\n",
       "    .dataframe thead th {\n",
       "        text-align: right;\n",
       "    }\n",
       "</style>\n",
       "<table border=\"1\" class=\"dataframe\">\n",
       "  <thead>\n",
       "    <tr style=\"text-align: right;\">\n",
       "      <th></th>\n",
       "      <th>sl_no</th>\n",
       "      <th>gender</th>\n",
       "      <th>hsc_p</th>\n",
       "      <th>hsc_s</th>\n",
       "      <th>degree_p</th>\n",
       "      <th>degree_t</th>\n",
       "      <th>etest_p</th>\n",
       "      <th>specialisation</th>\n",
       "      <th>mba_p</th>\n",
       "      <th>salary</th>\n",
       "    </tr>\n",
       "  </thead>\n",
       "  <tbody>\n",
       "    <tr>\n",
       "      <th>0</th>\n",
       "      <td>1</td>\n",
       "      <td>M</td>\n",
       "      <td>2.265997e+00</td>\n",
       "      <td>Commerce</td>\n",
       "      <td>-1.652293</td>\n",
       "      <td>Sci&amp;Tech</td>\n",
       "      <td>-1.328518</td>\n",
       "      <td>Mkt&amp;HR</td>\n",
       "      <td>58.80</td>\n",
       "      <td>-0.200292</td>\n",
       "    </tr>\n",
       "    <tr>\n",
       "      <th>1</th>\n",
       "      <td>2</td>\n",
       "      <td>M</td>\n",
       "      <td>8.987875e-01</td>\n",
       "      <td>Science</td>\n",
       "      <td>1.346845</td>\n",
       "      <td>Sci&amp;Tech</td>\n",
       "      <td>0.978332</td>\n",
       "      <td>Mkt&amp;Fin</td>\n",
       "      <td>66.28</td>\n",
       "      <td>-0.951839</td>\n",
       "    </tr>\n",
       "    <tr>\n",
       "      <th>2</th>\n",
       "      <td>3</td>\n",
       "      <td>M</td>\n",
       "      <td>1.533482e-15</td>\n",
       "      <td>Arts</td>\n",
       "      <td>-0.728534</td>\n",
       "      <td>Comm&amp;Mgmt</td>\n",
       "      <td>0.136149</td>\n",
       "      <td>Mkt&amp;Fin</td>\n",
       "      <td>57.80</td>\n",
       "      <td>-0.415019</td>\n",
       "    </tr>\n",
       "    <tr>\n",
       "      <th>4</th>\n",
       "      <td>5</td>\n",
       "      <td>M</td>\n",
       "      <td>3.883770e-01</td>\n",
       "      <td>Commerce</td>\n",
       "      <td>0.703293</td>\n",
       "      <td>Comm&amp;Mgmt</td>\n",
       "      <td>1.732635</td>\n",
       "      <td>Mkt&amp;Fin</td>\n",
       "      <td>55.50</td>\n",
       "      <td>1.463849</td>\n",
       "    </tr>\n",
       "    <tr>\n",
       "      <th>7</th>\n",
       "      <td>8</td>\n",
       "      <td>M</td>\n",
       "      <td>-6.475513e-01</td>\n",
       "      <td>Science</td>\n",
       "      <td>-0.420614</td>\n",
       "      <td>Sci&amp;Tech</td>\n",
       "      <td>-0.449718</td>\n",
       "      <td>Mkt&amp;Fin</td>\n",
       "      <td>62.14</td>\n",
       "      <td>-0.393547</td>\n",
       "    </tr>\n",
       "  </tbody>\n",
       "</table>\n",
       "</div>"
      ],
      "text/plain": [
       "   sl_no gender         hsc_p     hsc_s  degree_p   degree_t   etest_p  \\\n",
       "0      1      M  2.265997e+00  Commerce -1.652293   Sci&Tech -1.328518   \n",
       "1      2      M  8.987875e-01   Science  1.346845   Sci&Tech  0.978332   \n",
       "2      3      M  1.533482e-15      Arts -0.728534  Comm&Mgmt  0.136149   \n",
       "4      5      M  3.883770e-01  Commerce  0.703293  Comm&Mgmt  1.732635   \n",
       "7      8      M -6.475513e-01   Science -0.420614   Sci&Tech -0.449718   \n",
       "\n",
       "  specialisation  mba_p    salary  \n",
       "0         Mkt&HR  58.80 -0.200292  \n",
       "1        Mkt&Fin  66.28 -0.951839  \n",
       "2        Mkt&Fin  57.80 -0.415019  \n",
       "4        Mkt&Fin  55.50  1.463849  \n",
       "7        Mkt&Fin  62.14 -0.393547  "
      ]
     },
     "execution_count": 18,
     "metadata": {},
     "output_type": "execute_result"
    }
   ],
   "source": [
    "c=[\"hsc_p\",\"degree_p\",\"etest_p\",\"salary\"]\n",
    "sc1=StandardScaler()\n",
    "df[c]=sc1.fit_transform(df[c])\n",
    "df.head()"
   ]
  },
  {
   "cell_type": "markdown",
   "id": "d8974447-b707-4b00-bc1b-f395c6167345",
   "metadata": {
    "id": "d8974447-b707-4b00-bc1b-f395c6167345"
   },
   "source": [
    "#### Option 2:This method scales the data to a fixed range, usually between 0 and 1. \n",
    "###  MinMaxScaler()"
   ]
  },
  {
   "cell_type": "code",
   "execution_count": 19,
   "id": "c446eae2-f4af-4ab1-8b43-0e347581e9a8",
   "metadata": {
    "id": "c446eae2-f4af-4ab1-8b43-0e347581e9a8",
    "outputId": "5951acaf-3dc0-48f5-a6d8-0212ee4970ee"
   },
   "outputs": [
    {
     "data": {
      "text/html": [
       "<div>\n",
       "<style scoped>\n",
       "    .dataframe tbody tr th:only-of-type {\n",
       "        vertical-align: middle;\n",
       "    }\n",
       "\n",
       "    .dataframe tbody tr th {\n",
       "        vertical-align: top;\n",
       "    }\n",
       "\n",
       "    .dataframe thead th {\n",
       "        text-align: right;\n",
       "    }\n",
       "</style>\n",
       "<table border=\"1\" class=\"dataframe\">\n",
       "  <thead>\n",
       "    <tr style=\"text-align: right;\">\n",
       "      <th></th>\n",
       "      <th>sl_no</th>\n",
       "      <th>gender</th>\n",
       "      <th>hsc_p</th>\n",
       "      <th>hsc_s</th>\n",
       "      <th>degree_p</th>\n",
       "      <th>degree_t</th>\n",
       "      <th>etest_p</th>\n",
       "      <th>specialisation</th>\n",
       "      <th>mba_p</th>\n",
       "      <th>salary</th>\n",
       "    </tr>\n",
       "  </thead>\n",
       "  <tbody>\n",
       "    <tr>\n",
       "      <th>0</th>\n",
       "      <td>1</td>\n",
       "      <td>M</td>\n",
       "      <td>0.857051</td>\n",
       "      <td>Commerce</td>\n",
       "      <td>0.057143</td>\n",
       "      <td>Sci&amp;Tech</td>\n",
       "      <td>0.104167</td>\n",
       "      <td>Mkt&amp;HR</td>\n",
       "      <td>58.80</td>\n",
       "      <td>0.094595</td>\n",
       "    </tr>\n",
       "    <tr>\n",
       "      <th>1</th>\n",
       "      <td>2</td>\n",
       "      <td>M</td>\n",
       "      <td>0.586729</td>\n",
       "      <td>Science</td>\n",
       "      <td>0.613714</td>\n",
       "      <td>Sci&amp;Tech</td>\n",
       "      <td>0.760417</td>\n",
       "      <td>Mkt&amp;Fin</td>\n",
       "      <td>66.28</td>\n",
       "      <td>0.000000</td>\n",
       "    </tr>\n",
       "    <tr>\n",
       "      <th>2</th>\n",
       "      <td>3</td>\n",
       "      <td>M</td>\n",
       "      <td>0.409023</td>\n",
       "      <td>Arts</td>\n",
       "      <td>0.228571</td>\n",
       "      <td>Comm&amp;Mgmt</td>\n",
       "      <td>0.520833</td>\n",
       "      <td>Mkt&amp;Fin</td>\n",
       "      <td>57.80</td>\n",
       "      <td>0.067568</td>\n",
       "    </tr>\n",
       "    <tr>\n",
       "      <th>4</th>\n",
       "      <td>5</td>\n",
       "      <td>M</td>\n",
       "      <td>0.485812</td>\n",
       "      <td>Commerce</td>\n",
       "      <td>0.494286</td>\n",
       "      <td>Comm&amp;Mgmt</td>\n",
       "      <td>0.975000</td>\n",
       "      <td>Mkt&amp;Fin</td>\n",
       "      <td>55.50</td>\n",
       "      <td>0.304054</td>\n",
       "    </tr>\n",
       "    <tr>\n",
       "      <th>7</th>\n",
       "      <td>8</td>\n",
       "      <td>M</td>\n",
       "      <td>0.280990</td>\n",
       "      <td>Science</td>\n",
       "      <td>0.285714</td>\n",
       "      <td>Sci&amp;Tech</td>\n",
       "      <td>0.354167</td>\n",
       "      <td>Mkt&amp;Fin</td>\n",
       "      <td>62.14</td>\n",
       "      <td>0.070270</td>\n",
       "    </tr>\n",
       "  </tbody>\n",
       "</table>\n",
       "</div>"
      ],
      "text/plain": [
       "   sl_no gender     hsc_p     hsc_s  degree_p   degree_t   etest_p  \\\n",
       "0      1      M  0.857051  Commerce  0.057143   Sci&Tech  0.104167   \n",
       "1      2      M  0.586729   Science  0.613714   Sci&Tech  0.760417   \n",
       "2      3      M  0.409023      Arts  0.228571  Comm&Mgmt  0.520833   \n",
       "4      5      M  0.485812  Commerce  0.494286  Comm&Mgmt  0.975000   \n",
       "7      8      M  0.280990   Science  0.285714   Sci&Tech  0.354167   \n",
       "\n",
       "  specialisation  mba_p    salary  \n",
       "0         Mkt&HR  58.80  0.094595  \n",
       "1        Mkt&Fin  66.28  0.000000  \n",
       "2        Mkt&Fin  57.80  0.067568  \n",
       "4        Mkt&Fin  55.50  0.304054  \n",
       "7        Mkt&Fin  62.14  0.070270  "
      ]
     },
     "execution_count": 19,
     "metadata": {},
     "output_type": "execute_result"
    }
   ],
   "source": [
    "d=[\"hsc_p\",\"degree_p\",\"etest_p\",\"salary\"]\n",
    "sc2=MinMaxScaler()\n",
    "df[d]=sc2.fit_transform(df[d])\n",
    "df.head()"
   ]
  },
  {
   "cell_type": "markdown",
   "id": "7b341c0e-7aa3-48c3-84c4-9ef8a5139fad",
   "metadata": {
    "id": "7b341c0e-7aa3-48c3-84c4-9ef8a5139fad"
   },
   "source": [
    "####  Step 6:Separate the dataset into features (X) and target (y) variables. The target is usually the column you want to predict."
   ]
  },
  {
   "cell_type": "code",
   "execution_count": 21,
   "id": "3b19d23c-5efe-4615-8c4d-63d435d94b25",
   "metadata": {
    "id": "3b19d23c-5efe-4615-8c4d-63d435d94b25"
   },
   "outputs": [
    {
     "data": {
      "text/plain": [
       "0    0.094595\n",
       "1    0.000000\n",
       "2    0.067568\n",
       "4    0.304054\n",
       "7    0.070270\n",
       "Name: salary, dtype: float64"
      ]
     },
     "execution_count": 21,
     "metadata": {},
     "output_type": "execute_result"
    }
   ],
   "source": [
    "x=df[[\"gender\",\"hsc_p\",\"degree_p\",\"degree_t\",\"etest_p\",\"specialisation\",\"mba_p\"]]\n",
    "y=df[\"salary\"]\n",
    "y.head()"
   ]
  },
  {
   "cell_type": "markdown",
   "id": "88524422-4dcc-4cb0-9cb7-d9b4d8ab851a",
   "metadata": {
    "id": "88524422-4dcc-4cb0-9cb7-d9b4d8ab851a"
   },
   "source": [
    "\n",
    "### Step 7: After preprocessing, save the cleaned and scaled dataset to a new CSV file\n"
   ]
  },
  {
   "cell_type": "code",
   "execution_count": 22,
   "id": "4c507925-385e-44db-a645-c61c0cb7a736",
   "metadata": {},
   "outputs": [],
   "source": [
    "final=pd.concat([x,y],axis=1)\n",
    "final.to_csv(\"Pre.csv\",index=False)"
   ]
  },
  {
   "cell_type": "code",
   "execution_count": 12,
   "id": "nvnJZfIFDexK",
   "metadata": {
    "id": "nvnJZfIFDexK"
   },
   "outputs": [],
   "source": [
    "# Lab-1 Activities\n",
    "\n",
    "#Perform data preprocesing for Automobile.csv\n",
    "\n",
    "#i. Delete the column horsepower since it has few missing values\n",
    "\n",
    "#ii. Impute missing with meadin\n",
    "\n",
    "#iii. Apply min-max scaling and standardization on the Automobiles.csv and provide the reasoning which feature scaling method make more sense to this dataset."
   ]
  }
 ],
 "metadata": {
  "colab": {
   "provenance": []
  },
  "kernelspec": {
   "display_name": "Python [conda env:base] *",
   "language": "python",
   "name": "conda-base-py"
  },
  "language_info": {
   "codemirror_mode": {
    "name": "ipython",
    "version": 3
   },
   "file_extension": ".py",
   "mimetype": "text/x-python",
   "name": "python",
   "nbconvert_exporter": "python",
   "pygments_lexer": "ipython3",
   "version": "3.13.5"
  }
 },
 "nbformat": 4,
 "nbformat_minor": 5
}
